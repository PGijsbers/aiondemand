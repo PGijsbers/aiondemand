{
    "cells": [
        {
            "cell_type": "markdown",
            "metadata": {},
            "source": [
                "# Example usage\n",
                "\n",
                "To use `aiod_py_sdk` in a project:"
            ]
        },
        {
            "cell_type": "code",
            "execution_count": 1,
            "metadata": {},
            "outputs": [
                {
                    "name": "stdout",
                    "output_type": "stream",
                    "text": [
                        "0.1.0\n"
                    ]
                }
            ],
            "source": [
                "import aiod_sdk as aiod\n",
                "\n",
                "print(aiod.__version__)"
            ]
        },
        {
            "cell_type": "code",
            "execution_count": 2,
            "metadata": {},
            "outputs": [
                {
                    "data": {
                        "text/plain": [
                            "[{'name': 'aiod', 'identifier': 1},\n",
                            " {'name': 'example', 'identifier': 2},\n",
                            " {'name': 'openml', 'identifier': 3},\n",
                            " {'name': 'huggingface', 'identifier': 4},\n",
                            " {'name': 'zenodo', 'identifier': 5},\n",
                            " {'name': 'ai4experiments', 'identifier': 6},\n",
                            " {'name': 'stairwai', 'identifier': 7},\n",
                            " {'name': 'bonseyes', 'identifier': 8},\n",
                            " {'name': 'aida_cms', 'identifier': 9},\n",
                            " {'name': 'robotics4eu', 'identifier': 10}]"
                        ]
                    },
                    "execution_count": 2,
                    "metadata": {},
                    "output_type": "execute_result"
                }
            ],
            "source": [
                "platforms = aiod.platforms.list()\n",
                "platforms.json()"
            ]
        },
        {
            "cell_type": "code",
            "execution_count": 3,
            "metadata": {},
            "outputs": [
                {
                    "data": {
                        "text/plain": [
                            "10"
                        ]
                    },
                    "execution_count": 3,
                    "metadata": {},
                    "output_type": "execute_result"
                }
            ],
            "source": [
                "numb_platforms = aiod.platforms.counts()\n",
                "numb_platforms.json()"
            ]
        },
        {
            "cell_type": "code",
            "execution_count": 6,
            "metadata": {},
            "outputs": [
                {
                    "data": {
                        "text/plain": [
                            "[{'platform': 'huggingface',\n",
                            "  'platform_resource_identifier': 'eitb_parcc',\n",
                            "  'name': 'eitb_parcc',\n",
                            "  'date_published': '2022-03-02T23:29:22',\n",
                            "  'same_as': 'https://huggingface.co/datasets/eitb_parcc',\n",
                            "  'is_accessible_for_free': True,\n",
                            "  'ai_asset_identifier': 468,\n",
                            "  'ai_resource_identifier': 478,\n",
                            "  'aiod_entry': {'editor': [],\n",
                            "   'status': 'published',\n",
                            "   'date_modified': '2023-11-29T15:26:09',\n",
                            "   'date_created': '2023-11-29T15:26:09'},\n",
                            "  'alternate_name': [],\n",
                            "  'application_area': [],\n",
                            "  'citation': [160],\n",
                            "  'contact': [],\n",
                            "  'creator': [],\n",
                            "  'description': {'plain': 'EiTB-ParCC: Parallel Corpus of Comparable News. A Basque-Spanish parallel corpus provided by Vicomtech (https://www.vicomtech.org), extracted from comparable news produced by the Basque public broadcasting group Euskal Irrati Telebista.'},\n",
                            "  'distribution': [{'content_url': 'https://huggingface.co/datasets/eitb_parcc/resolve/refs%2Fconvert%2Fparquet/es-eu/train/0000.parquet',\n",
                            "    'content_size_kb': 96930125,\n",
                            "    'description': 'eitb_parcc. Config: es-eu. Split: train',\n",
                            "    'name': '0000.parquet'}],\n",
                            "  'funder': [],\n",
                            "  'has_part': [],\n",
                            "  'industrial_sector': [],\n",
                            "  'is_part_of': [],\n",
                            "  'keyword': ['source_datasets:original',\n",
                            "   'region:us',\n",
                            "   'language_creators:found',\n",
                            "   'license:unknown',\n",
                            "   'size_categories:100k<n<1m',\n",
                            "   'annotations_creators:found',\n",
                            "   'multilinguality:multilingual',\n",
                            "   'task_categories:translation',\n",
                            "   'language:es',\n",
                            "   'language:eu'],\n",
                            "  'license': 'unknown',\n",
                            "  'media': [],\n",
                            "  'note': [],\n",
                            "  'relevant_link': [],\n",
                            "  'relevant_resource': [],\n",
                            "  'relevant_to': [],\n",
                            "  'research_area': [],\n",
                            "  'scientific_domain': [],\n",
                            "  'identifier': 301},\n",
                            " {'platform': 'openml',\n",
                            "  'platform_resource_identifier': '181',\n",
                            "  'name': 'yeast',\n",
                            "  'date_published': '2014-04-23T13:14:41',\n",
                            "  'same_as': 'https://www.openml.org/api/v1/json/data/181',\n",
                            "  'is_accessible_for_free': True,\n",
                            "  'version': '1',\n",
                            "  'ai_asset_identifier': 469,\n",
                            "  'ai_resource_identifier': 479,\n",
                            "  'aiod_entry': {'editor': [],\n",
                            "   'status': 'published',\n",
                            "   'date_modified': '2023-11-29T15:26:10',\n",
                            "   'date_created': '2023-11-29T15:26:10'},\n",
                            "  'alternate_name': [],\n",
                            "  'application_area': [],\n",
                            "  'citation': [],\n",
                            "  'contact': [],\n",
                            "  'creator': [],\n",
                            "  'description': {'plain': '**Author**:   \\n**Source**: Unknown -   \\n**Please cite**:'},\n",
                            "  'distribution': [{'content_url': 'https://api.openml.org/data/v1/download/3616/yeast.arff',\n",
                            "    'encoding_format': 'ARFF'}],\n",
                            "  'funder': [],\n",
                            "  'has_part': [],\n",
                            "  'industrial_sector': [],\n",
                            "  'is_part_of': [],\n",
                            "  'keyword': ['study_37',\n",
                            "   'study_1',\n",
                            "   'study_41',\n",
                            "   'study_76',\n",
                            "   'study_70',\n",
                            "   'study_7',\n",
                            "   'demographics'],\n",
                            "  'license': 'public',\n",
                            "  'media': [],\n",
                            "  'note': [],\n",
                            "  'relevant_link': [],\n",
                            "  'relevant_resource': [],\n",
                            "  'relevant_to': [],\n",
                            "  'research_area': [],\n",
                            "  'scientific_domain': [],\n",
                            "  'size': {'unit': 'instances', 'value': 1484},\n",
                            "  'identifier': 302}]"
                        ]
                    },
                    "execution_count": 6,
                    "metadata": {},
                    "output_type": "execute_result"
                }
            ],
            "source": [
                "datasets = aiod.datasets.list(offset=300, limit=2)\n",
                "datasets.json()"
            ]
        },
        {
            "cell_type": "code",
            "execution_count": null,
            "metadata": {},
            "outputs": [],
            "source": []
        }
    ],
    "metadata": {
        "kernelspec": {
            "display_name": "Python 3",
            "language": "python",
            "name": "python3"
        },
        "language_info": {
            "codemirror_mode": {
                "name": "ipython",
                "version": 3
            },
            "file_extension": ".py",
            "mimetype": "text/x-python",
            "name": "python",
            "nbconvert_exporter": "python",
            "pygments_lexer": "ipython3",
            "version": "3.11.6"
        }
    },
    "nbformat": 4,
    "nbformat_minor": 4
}
