{
    "cells": [
        {
            "cell_type": "markdown",
            "metadata": {},
            "source": [
                "# Example usage\n",
                "\n",
                "To use `aiod_py_sdk` in a project:"
            ]
        },
        {
            "cell_type": "code",
            "execution_count": 1,
            "metadata": {},
            "outputs": [
                {
                    "name": "stdout",
                    "output_type": "stream",
                    "text": [
                        "0.1.0\n"
                    ]
                }
            ],
            "source": [
                "import aiod_sdk as aiod\n",
                "print(aiod.__version__)"
            ]
        },
        {
            "cell_type": "code",
            "execution_count": 3,
            "metadata": {},
            "outputs": [
                {
                    "name": "stdout",
                    "output_type": "stream",
                    "text": [
                        "Help on method list in module aiod_sdk.endpoints.endpoint:\n",
                        "\n",
                        "list(offset: int = 0, limit: int = 10, version: str | None = None, format: Literal['pandas', 'dict'] = 'pandas') -> pandas.core.frame.DataFrame | dict method of abc.ABCMeta instance\n",
                        "    Retrieve a list of metadata from the catalogue.\n",
                        "    \n",
                        "    Parameters:\n",
                        "        offset (int): The offset for pagination (default is 0).\n",
                        "        limit (int): The maximum number of items to retrieve (default is 10).\n",
                        "        version (str | None): The version of the endpoint (default is None).\n",
                        "        format (Literal[\"pandas\", \"dict\"]): The desired format for the response (default is \"pandas\").\n",
                        "    \n",
                        "    Returns:\n",
                        "        pd.DataFrame | dict: The retrieved metadata in the specified format.\n",
                        "\n"
                    ]
                }
            ],
            "source": [
                "help(aiod.platforms.list)"
            ]
        },
        {
            "cell_type": "code",
            "execution_count": 11,
            "metadata": {},
            "outputs": [
                {
                    "data": {
                        "text/html": [
                            "<div>\n",
                            "<style scoped>\n",
                            "    .dataframe tbody tr th:only-of-type {\n",
                            "        vertical-align: middle;\n",
                            "    }\n",
                            "\n",
                            "    .dataframe tbody tr th {\n",
                            "        vertical-align: top;\n",
                            "    }\n",
                            "\n",
                            "    .dataframe thead th {\n",
                            "        text-align: right;\n",
                            "    }\n",
                            "</style>\n",
                            "<table border=\"1\" class=\"dataframe\">\n",
                            "  <thead>\n",
                            "    <tr style=\"text-align: right;\">\n",
                            "      <th></th>\n",
                            "      <th>name</th>\n",
                            "      <th>identifier</th>\n",
                            "    </tr>\n",
                            "  </thead>\n",
                            "  <tbody>\n",
                            "    <tr>\n",
                            "      <th>0</th>\n",
                            "      <td>aiod</td>\n",
                            "      <td>1</td>\n",
                            "    </tr>\n",
                            "    <tr>\n",
                            "      <th>1</th>\n",
                            "      <td>example</td>\n",
                            "      <td>2</td>\n",
                            "    </tr>\n",
                            "    <tr>\n",
                            "      <th>2</th>\n",
                            "      <td>openml</td>\n",
                            "      <td>3</td>\n",
                            "    </tr>\n",
                            "    <tr>\n",
                            "      <th>3</th>\n",
                            "      <td>huggingface</td>\n",
                            "      <td>4</td>\n",
                            "    </tr>\n",
                            "    <tr>\n",
                            "      <th>4</th>\n",
                            "      <td>zenodo</td>\n",
                            "      <td>5</td>\n",
                            "    </tr>\n",
                            "  </tbody>\n",
                            "</table>\n",
                            "</div>"
                        ],
                        "text/plain": [
                            "          name  identifier\n",
                            "0         aiod           1\n",
                            "1      example           2\n",
                            "2       openml           3\n",
                            "3  huggingface           4\n",
                            "4       zenodo           5"
                        ]
                    },
                    "execution_count": 11,
                    "metadata": {},
                    "output_type": "execute_result"
                }
            ],
            "source": [
                "platforms = aiod.platforms.list()\n",
                "platforms[:5]"
            ]
        },
        {
            "cell_type": "code",
            "execution_count": 5,
            "metadata": {},
            "outputs": [
                {
                    "data": {
                        "text/plain": [
                            "10"
                        ]
                    },
                    "execution_count": 5,
                    "metadata": {},
                    "output_type": "execute_result"
                }
            ],
            "source": [
                "numb_platforms = aiod.platforms.counts()\n",
                "numb_platforms"
            ]
        },
        {
            "cell_type": "code",
            "execution_count": 9,
            "metadata": {},
            "outputs": [
                {
                    "data": {
                        "text/html": [
                            "<div>\n",
                            "<style scoped>\n",
                            "    .dataframe tbody tr th:only-of-type {\n",
                            "        vertical-align: middle;\n",
                            "    }\n",
                            "\n",
                            "    .dataframe tbody tr th {\n",
                            "        vertical-align: top;\n",
                            "    }\n",
                            "\n",
                            "    .dataframe thead th {\n",
                            "        text-align: right;\n",
                            "    }\n",
                            "</style>\n",
                            "<table border=\"1\" class=\"dataframe\">\n",
                            "  <thead>\n",
                            "    <tr style=\"text-align: right;\">\n",
                            "      <th></th>\n",
                            "      <th>platform</th>\n",
                            "      <th>platform_resource_identifier</th>\n",
                            "      <th>name</th>\n",
                            "      <th>date_published</th>\n",
                            "      <th>same_as</th>\n",
                            "    </tr>\n",
                            "  </thead>\n",
                            "  <tbody>\n",
                            "    <tr>\n",
                            "      <th>0</th>\n",
                            "      <td>huggingface</td>\n",
                            "      <td>eitb_parcc</td>\n",
                            "      <td>eitb_parcc</td>\n",
                            "      <td>2022-03-02T23:29:22</td>\n",
                            "      <td>https://huggingface.co/datasets/eitb_parcc</td>\n",
                            "    </tr>\n",
                            "    <tr>\n",
                            "      <th>1</th>\n",
                            "      <td>openml</td>\n",
                            "      <td>181</td>\n",
                            "      <td>yeast</td>\n",
                            "      <td>2014-04-23T13:14:41</td>\n",
                            "      <td>https://www.openml.org/api/v1/json/data/181</td>\n",
                            "    </tr>\n",
                            "  </tbody>\n",
                            "</table>\n",
                            "</div>"
                        ],
                        "text/plain": [
                            "      platform platform_resource_identifier        name       date_published  \\\n",
                            "0  huggingface                   eitb_parcc  eitb_parcc  2022-03-02T23:29:22   \n",
                            "1       openml                          181       yeast  2014-04-23T13:14:41   \n",
                            "\n",
                            "                                       same_as  \n",
                            "0   https://huggingface.co/datasets/eitb_parcc  \n",
                            "1  https://www.openml.org/api/v1/json/data/181  "
                        ]
                    },
                    "execution_count": 9,
                    "metadata": {},
                    "output_type": "execute_result"
                }
            ],
            "source": [
                "datasets = aiod.datasets.list(offset=300, limit=2)\n",
                "datasets[datasets.columns[:5]]"
            ]
        },
        {
            "cell_type": "code",
            "execution_count": 10,
            "metadata": {},
            "outputs": [
                {
                    "data": {
                        "text/plain": [
                            "platform                                                             openml\n",
                            "platform_resource_identifier                                            181\n",
                            "name                                                                  yeast\n",
                            "date_published                                          2014-04-23T13:14:41\n",
                            "same_as                         https://www.openml.org/api/v1/json/data/181\n",
                            "dtype: object"
                        ]
                    },
                    "execution_count": 10,
                    "metadata": {},
                    "output_type": "execute_result"
                }
            ],
            "source": [
                "metadata_dataset302 = aiod.datasets.get(302)\n",
                "metadata_dataset302[:5]"
            ]
        }
    ],
    "metadata": {
        "kernelspec": {
            "display_name": "Python 3",
            "language": "python",
            "name": "python3"
        },
        "language_info": {
            "codemirror_mode": {
                "name": "ipython",
                "version": 3
            },
            "file_extension": ".py",
            "mimetype": "text/x-python",
            "name": "python",
            "nbconvert_exporter": "python",
            "pygments_lexer": "ipython3",
            "version": "3.11.6"
        }
    },
    "nbformat": 4,
    "nbformat_minor": 4
}
