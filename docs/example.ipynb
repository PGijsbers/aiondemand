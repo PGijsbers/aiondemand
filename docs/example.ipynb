{
    "cells": [
        {
            "cell_type": "markdown",
            "metadata": {},
            "source": [
                "# Example usage\n",
                "\n",
                "To use `aiod_py_sdk` in a project:"
            ]
        },
        {
            "cell_type": "code",
            "execution_count": 1,
            "metadata": {},
            "outputs": [
                {
                    "name": "stdout",
                    "output_type": "stream",
                    "text": [
                        "0.1.0\n"
                    ]
                }
            ],
            "source": [
                "import aiod_sdk as aiod\n",
                "print(aiod.__version__)"
            ]
        },
        {
            "cell_type": "code",
            "execution_count": 2,
            "metadata": {},
            "outputs": [
                {
                    "data": {
                        "text/html": [
                            "<div>\n",
                            "<style scoped>\n",
                            "    .dataframe tbody tr th:only-of-type {\n",
                            "        vertical-align: middle;\n",
                            "    }\n",
                            "\n",
                            "    .dataframe tbody tr th {\n",
                            "        vertical-align: top;\n",
                            "    }\n",
                            "\n",
                            "    .dataframe thead th {\n",
                            "        text-align: right;\n",
                            "    }\n",
                            "</style>\n",
                            "<table border=\"1\" class=\"dataframe\">\n",
                            "  <thead>\n",
                            "    <tr style=\"text-align: right;\">\n",
                            "      <th></th>\n",
                            "      <th>datasets</th>\n",
                            "      <th>ml_models</th>\n",
                            "    </tr>\n",
                            "  </thead>\n",
                            "  <tbody>\n",
                            "    <tr>\n",
                            "      <th>example</th>\n",
                            "      <td>NaN</td>\n",
                            "      <td>1.0</td>\n",
                            "    </tr>\n",
                            "    <tr>\n",
                            "      <th>aiod</th>\n",
                            "      <td>NaN</td>\n",
                            "      <td>NaN</td>\n",
                            "    </tr>\n",
                            "    <tr>\n",
                            "      <th>huggingface</th>\n",
                            "      <td>553.0</td>\n",
                            "      <td>NaN</td>\n",
                            "    </tr>\n",
                            "    <tr>\n",
                            "      <th>openml</th>\n",
                            "      <td>5449.0</td>\n",
                            "      <td>15329.0</td>\n",
                            "    </tr>\n",
                            "    <tr>\n",
                            "      <th>drupal</th>\n",
                            "      <td>NaN</td>\n",
                            "      <td>NaN</td>\n",
                            "    </tr>\n",
                            "  </tbody>\n",
                            "</table>\n",
                            "</div>"
                        ],
                        "text/plain": [
                            "             datasets  ml_models\n",
                            "example           NaN        1.0\n",
                            "aiod              NaN        NaN\n",
                            "huggingface     553.0        NaN\n",
                            "openml         5449.0    15329.0\n",
                            "drupal            NaN        NaN"
                        ]
                    },
                    "execution_count": 2,
                    "metadata": {},
                    "output_type": "execute_result"
                }
            ],
            "source": [
                "aiod_counts = aiod.counts()\n",
                "aiod_counts[[\"datasets\", \"ml_models\"]]"
            ]
        },
        {
            "cell_type": "code",
            "execution_count": 3,
            "metadata": {},
            "outputs": [
                {
                    "name": "stdout",
                    "output_type": "stream",
                    "text": [
                        "Help on module aiod_sdk.resources.datasets in aiod_sdk.resources:\n",
                        "\n",
                        "NAME\n",
                        "    aiod_sdk.resources.datasets\n",
                        "\n",
                        "DATA\n",
                        "    counts = functools.partial(<function counts at 0x10aa41440>, asset_typ...\n",
                        "        Retrieve the counts of datasets.\n",
                        "        \n",
                        "        Parameters:\n",
                        "            version (str | None): The version of the endpoint (default is None).\n",
                        "            detailed (bool): Whether to retrieve detailed counts (default is False).\n",
                        "        \n",
                        "        Returns:\n",
                        "            int: The count of datasets.\n",
                        "    \n",
                        "    get_asset = functools.partial(<function get_asset at 0x12ed76700>, ass...\n",
                        "        Retrieve metadata for a specific datasets.\n",
                        "        \n",
                        "        Parameters:\n",
                        "            identifier (int): The identifier of the datasets to retrieve.\n",
                        "            version (str | None): The version of the endpoint (default is None).\n",
                        "            data_format (Literal[\"pandas\", \"json\"]): The desired format for the response (default is \"pandas\").\n",
                        "                For \"json\" formats, the returned type is a json decoded type, in this case a dict.\n",
                        "        \n",
                        "        Returns:\n",
                        "            pd.Series | dict: The retrieved metadata for the specified datasets.\n",
                        "    \n",
                        "    get_asset_async = functools.partial(<function get_asset_async at 0x12e...\n",
                        "        Asynchronously retrieve metadata for a list of datasets identifiers.\n",
                        "        \n",
                        "        Parameters:\n",
                        "            identifiers (list[int]): The list of identifiers of the datasets to retrieve.\n",
                        "            version (str | None): The version of the endpoint (default is None).\n",
                        "            data_format (Literal[\"pandas\", \"json\"]): The desired format for the response (default is \"pandas\").\n",
                        "                For \"json\" formats, the returned type is a json decoded type, i.e. a dict or a list.\n",
                        "        \n",
                        "        Returns:\n",
                        "            pd.Series | dict: The retrieved metadata for the specified datasets.\n",
                        "    \n",
                        "    get_list = functools.partial(<function get_list at 0x10567a520>, asset...\n",
                        "        Retrieve a list of datasets from the catalogue.\n",
                        "        \n",
                        "        Parameters:\n",
                        "            offset (int): The offset for pagination (default is 0).\n",
                        "            limit (int): The maximum number of items to retrieve (default is 10).\n",
                        "            version (str | None): The version of the endpoint (default is None).\n",
                        "            data_format (Literal[\"pandas\", \"json\"]): The desired format for the response (default is \"pandas\").\n",
                        "                For \"json\" formats, the returned type is a json decoded type, i.e. a dict or a list.\n",
                        "        \n",
                        "        Returns:\n",
                        "            pd.DataFrame | dict | list: The retrieved metadata in the specified format.\n",
                        "    \n",
                        "    get_list_async = functools.partial(<function get_list_async at 0x12ed7...\n",
                        "        Asynchronously retrieve a list of datasets from the catalogue in batches.\n",
                        "        \n",
                        "        Parameters:\n",
                        "            offset (int): The offset for pagination (default is 0).\n",
                        "            limit (int): The maximum number of items to retrieve (default is 10).\n",
                        "            batch_size (int): The number of items in a a batch.\n",
                        "            version (str | None): The version of the endpoint (default is None).\n",
                        "            data_format (Literal[\"pandas\", \"json\"]): The desired format for the response (default is \"pandas\").\n",
                        "                For \"json\" formats, the returned type is a json decoded type, in this case a list.\n",
                        "        \n",
                        "        Returns:\n",
                        "            pd.DataFrame | dict: The retrieved metadata in the specified format.\n",
                        "\n",
                        "FILE\n",
                        "    /Users/jmatias/Documents/develop/aiod-py-sdk/src/aiod_sdk/resources/datasets.py\n",
                        "\n",
                        "\n"
                    ]
                }
            ],
            "source": [
                "help(aiod.datasets)"
            ]
        },
        {
            "cell_type": "code",
            "execution_count": 4,
            "metadata": {},
            "outputs": [
                {
                    "data": {
                        "text/plain": [
                            "6002"
                        ]
                    },
                    "execution_count": 4,
                    "metadata": {},
                    "output_type": "execute_result"
                }
            ],
            "source": [
                "aiod.datasets.counts()"
            ]
        },
        {
            "cell_type": "code",
            "execution_count": 5,
            "metadata": {},
            "outputs": [
                {
                    "data": {
                        "text/html": [
                            "<div>\n",
                            "<style scoped>\n",
                            "    .dataframe tbody tr th:only-of-type {\n",
                            "        vertical-align: middle;\n",
                            "    }\n",
                            "\n",
                            "    .dataframe tbody tr th {\n",
                            "        vertical-align: top;\n",
                            "    }\n",
                            "\n",
                            "    .dataframe thead th {\n",
                            "        text-align: right;\n",
                            "    }\n",
                            "</style>\n",
                            "<table border=\"1\" class=\"dataframe\">\n",
                            "  <thead>\n",
                            "    <tr style=\"text-align: right;\">\n",
                            "      <th></th>\n",
                            "      <th>platform</th>\n",
                            "      <th>platform_resource_identifier</th>\n",
                            "      <th>name</th>\n",
                            "      <th>date_published</th>\n",
                            "      <th>same_as</th>\n",
                            "    </tr>\n",
                            "  </thead>\n",
                            "  <tbody>\n",
                            "    <tr>\n",
                            "      <th>0</th>\n",
                            "      <td>huggingface</td>\n",
                            "      <td>huggingartists/oxxxymiron</td>\n",
                            "      <td>huggingartists/oxxxymiron</td>\n",
                            "      <td>2022-03-02T23:29:22</td>\n",
                            "      <td>https://huggingface.co/datasets/huggingartists...</td>\n",
                            "    </tr>\n",
                            "    <tr>\n",
                            "      <th>1</th>\n",
                            "      <td>huggingface</td>\n",
                            "      <td>huggingartists/peter-paul-and-mary</td>\n",
                            "      <td>huggingartists/peter-paul-and-mary</td>\n",
                            "      <td>2022-03-02T23:29:22</td>\n",
                            "      <td>https://huggingface.co/datasets/huggingartists...</td>\n",
                            "    </tr>\n",
                            "  </tbody>\n",
                            "</table>\n",
                            "</div>"
                        ],
                        "text/plain": [
                            "      platform        platform_resource_identifier  \\\n",
                            "0  huggingface           huggingartists/oxxxymiron   \n",
                            "1  huggingface  huggingartists/peter-paul-and-mary   \n",
                            "\n",
                            "                                 name       date_published  \\\n",
                            "0           huggingartists/oxxxymiron  2022-03-02T23:29:22   \n",
                            "1  huggingartists/peter-paul-and-mary  2022-03-02T23:29:22   \n",
                            "\n",
                            "                                             same_as  \n",
                            "0  https://huggingface.co/datasets/huggingartists...  \n",
                            "1  https://huggingface.co/datasets/huggingartists...  "
                        ]
                    },
                    "execution_count": 5,
                    "metadata": {},
                    "output_type": "execute_result"
                }
            ],
            "source": [
                "datasets = aiod.datasets.get_list(offset=300, limit=2)\n",
                "datasets[datasets.columns[:5]]"
            ]
        },
        {
            "cell_type": "code",
            "execution_count": 6,
            "metadata": {},
            "outputs": [
                {
                    "data": {
                        "text/plain": [
                            "platform                                                              huggingface\n",
                            "platform_resource_identifier                   huggingartists/peter-paul-and-mary\n",
                            "name                                           huggingartists/peter-paul-and-mary\n",
                            "date_published                                                2022-03-02T23:29:22\n",
                            "same_as                         https://huggingface.co/datasets/huggingartists...\n",
                            "is_accessible_for_free                                                       True\n",
                            "ai_asset_identifier                                                           309\n",
                            "ai_resource_identifier                                                        308\n",
                            "aiod_entry                      {'editor': [], 'status': 'published', 'date_mo...\n",
                            "alternate_name                                                                 []\n",
                            "application_area                                                               []\n",
                            "citation                                                                       []\n",
                            "contact                                                                        []\n",
                            "creator                                                                        []\n",
                            "description                     {'plain': 'This dataset is designed to generat...\n",
                            "distribution                    [{'content_url': 'https://huggingface.co/datas...\n",
                            "funder                                                                         []\n",
                            "has_part                                                                       []\n",
                            "industrial_sector                                                              []\n",
                            "is_part_of                                                                     []\n",
                            "keyword                         [region:us, croissant, language:en, lyrics, hu...\n",
                            "media                                                                          []\n",
                            "note                                                                           []\n",
                            "relevant_link                                                                  []\n",
                            "relevant_resource                                                              []\n",
                            "relevant_to                                                                    []\n",
                            "research_area                                                                  []\n",
                            "scientific_domain                                                              []\n",
                            "identifier                                                                    302\n",
                            "dtype: object"
                        ]
                    },
                    "execution_count": 6,
                    "metadata": {},
                    "output_type": "execute_result"
                }
            ],
            "source": [
                "metadata_dataset302 = aiod.datasets.get_asset(identifier=302)\n",
                "metadata_dataset302"
            ]
        },
        {
            "cell_type": "markdown",
            "metadata": {},
            "source": [
                "## Async methods"
            ]
        },
        {
            "cell_type": "code",
            "execution_count": 7,
            "metadata": {},
            "outputs": [
                {
                    "data": {
                        "text/html": [
                            "<div>\n",
                            "<style scoped>\n",
                            "    .dataframe tbody tr th:only-of-type {\n",
                            "        vertical-align: middle;\n",
                            "    }\n",
                            "\n",
                            "    .dataframe tbody tr th {\n",
                            "        vertical-align: top;\n",
                            "    }\n",
                            "\n",
                            "    .dataframe thead th {\n",
                            "        text-align: right;\n",
                            "    }\n",
                            "</style>\n",
                            "<table border=\"1\" class=\"dataframe\">\n",
                            "  <thead>\n",
                            "    <tr style=\"text-align: right;\">\n",
                            "      <th></th>\n",
                            "      <th>platform</th>\n",
                            "      <th>name</th>\n",
                            "      <th>identifier</th>\n",
                            "      <th>is_accessible_for_free</th>\n",
                            "    </tr>\n",
                            "  </thead>\n",
                            "  <tbody>\n",
                            "    <tr>\n",
                            "      <th>0</th>\n",
                            "      <td>huggingface</td>\n",
                            "      <td>huggingartists/oxxxymiron</td>\n",
                            "      <td>301</td>\n",
                            "      <td>True</td>\n",
                            "    </tr>\n",
                            "    <tr>\n",
                            "      <th>1</th>\n",
                            "      <td>huggingface</td>\n",
                            "      <td>huggingartists/peter-paul-and-mary</td>\n",
                            "      <td>302</td>\n",
                            "      <td>True</td>\n",
                            "    </tr>\n",
                            "    <tr>\n",
                            "      <th>2</th>\n",
                            "      <td>huggingface</td>\n",
                            "      <td>huggingartists/pharaoh</td>\n",
                            "      <td>303</td>\n",
                            "      <td>True</td>\n",
                            "    </tr>\n",
                            "    <tr>\n",
                            "      <th>3</th>\n",
                            "      <td>huggingface</td>\n",
                            "      <td>huggingartists/phish</td>\n",
                            "      <td>304</td>\n",
                            "      <td>True</td>\n",
                            "    </tr>\n",
                            "    <tr>\n",
                            "      <th>4</th>\n",
                            "      <td>huggingface</td>\n",
                            "      <td>huggingartists/pink-floyd</td>\n",
                            "      <td>305</td>\n",
                            "      <td>True</td>\n",
                            "    </tr>\n",
                            "  </tbody>\n",
                            "</table>\n",
                            "</div>"
                        ],
                        "text/plain": [
                            "      platform                                name  identifier  \\\n",
                            "0  huggingface           huggingartists/oxxxymiron         301   \n",
                            "1  huggingface  huggingartists/peter-paul-and-mary         302   \n",
                            "2  huggingface              huggingartists/pharaoh         303   \n",
                            "3  huggingface                huggingartists/phish         304   \n",
                            "4  huggingface           huggingartists/pink-floyd         305   \n",
                            "\n",
                            "   is_accessible_for_free  \n",
                            "0                    True  \n",
                            "1                    True  \n",
                            "2                    True  \n",
                            "3                    True  \n",
                            "4                    True  "
                        ]
                    },
                    "execution_count": 7,
                    "metadata": {},
                    "output_type": "execute_result"
                }
            ],
            "source": [
                "data = await aiod.datasets.get_list_async(offset=300, limit=5, batch_size=3)\n",
                "data[[\"platform\", \"name\", \"identifier\", \"is_accessible_for_free\"]]"
            ]
        },
        {
            "cell_type": "code",
            "execution_count": null,
            "metadata": {},
            "outputs": [],
            "source": []
        }
    ],
    "metadata": {
        "kernelspec": {
            "display_name": "Python 3",
            "language": "python",
            "name": "python3"
        },
        "language_info": {
            "codemirror_mode": {
                "name": "ipython",
                "version": 3
            },
            "file_extension": ".py",
            "mimetype": "text/x-python",
            "name": "python",
            "nbconvert_exporter": "python",
            "pygments_lexer": "ipython3",
            "version": "3.11.6"
        }
    },
    "nbformat": 4,
    "nbformat_minor": 4
}
