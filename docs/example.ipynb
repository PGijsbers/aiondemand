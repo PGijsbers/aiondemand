{
    "cells": [
        {
            "cell_type": "markdown",
            "metadata": {},
            "source": [
                "# Example usage\n",
                "\n",
                "To use `aiod` in a project:"
            ]
        },
        {
            "cell_type": "code",
            "execution_count": 1,
            "metadata": {},
            "outputs": [],
            "source": [
                "import aiod"
            ]
        },
        {
            "cell_type": "code",
            "execution_count": 2,
            "metadata": {},
            "outputs": [],
            "source": [
                "from aiod.configuration import config\n",
                "config.api_base_url = \"http://localhost/\"\n",
                "config.auth_server_url = \"http://localhost/aiod-auth/\""
            ]
        },
        {
            "cell_type": "code",
            "execution_count": 6,
            "metadata": {},
            "outputs": [
                {
                    "data": {
                        "text/html": [
                            "<div>\n",
                            "<style scoped>\n",
                            "    .dataframe tbody tr th:only-of-type {\n",
                            "        vertical-align: middle;\n",
                            "    }\n",
                            "\n",
                            "    .dataframe tbody tr th {\n",
                            "        vertical-align: top;\n",
                            "    }\n",
                            "\n",
                            "    .dataframe thead th {\n",
                            "        text-align: right;\n",
                            "    }\n",
                            "</style>\n",
                            "<table border=\"1\" class=\"dataframe\">\n",
                            "  <thead>\n",
                            "    <tr style=\"text-align: right;\">\n",
                            "      <th></th>\n",
                            "      <th>datasets</th>\n",
                            "    </tr>\n",
                            "  </thead>\n",
                            "  <tbody>\n",
                            "    <tr>\n",
                            "      <th>example</th>\n",
                            "      <td>1</td>\n",
                            "    </tr>\n",
                            "    <tr>\n",
                            "      <th>huggingface</th>\n",
                            "      <td>1761</td>\n",
                            "    </tr>\n",
                            "  </tbody>\n",
                            "</table>\n",
                            "</div>"
                        ],
                        "text/plain": [
                            "             datasets\n",
                            "example             1\n",
                            "huggingface      1761"
                        ]
                    },
                    "execution_count": 6,
                    "metadata": {},
                    "output_type": "execute_result"
                }
            ],
            "source": [
                "aiod_counts = aiod.counts()\n",
                "aiod_counts"
            ]
        },
        {
            "cell_type": "code",
            "execution_count": 3,
            "metadata": {},
            "outputs": [
                {
                    "name": "stdout",
                    "output_type": "stream",
                    "text": [
                        "Help on module aiod_sdk.resources.datasets in aiod_sdk.resources:\n",
                        "\n",
                        "NAME\n",
                        "    aiod_sdk.resources.datasets\n",
                        "\n",
                        "DATA\n",
                        "    counts = functools.partial(<function counts at 0x1062d54e0>, asset_typ...\n",
                        "        Retrieve the number of datasets assets in the metadata catalogue.\n",
                        "        \n",
                        "        Parameters (keywords required):\n",
                        "            version (str | None): The version of the endpoint (default is None).\n",
                        "            per_platform (bool): Whether to list counts per platform (default is False).\n",
                        "        \n",
                        "        Returns:\n",
                        "            int | dict[str, int]: The number datasets assets in the metadata catalogue.\n",
                        "                If the parameter per_platform is True, it returns a dict[str, int].\n",
                        "    \n",
                        "    get_asset = functools.partial(<function get_asset at 0x1185527a0>, ass...\n",
                        "        Retrieve metadata for a specific datasets.\n",
                        "        \n",
                        "        Parameters (keywords required):\n",
                        "            identifier (int): The identifier of the datasets to retrieve.\n",
                        "            version (str | None): The version of the endpoint (default is None).\n",
                        "            data_format (Literal[\"pandas\", \"json\"]): The desired format for the response (default is \"pandas\").\n",
                        "                For \"json\" formats, the returned type is a json decoded type, in this case a dict.\n",
                        "        \n",
                        "        Returns:\n",
                        "            pd.Series | dict: The retrieved metadata for the specified datasets.\n",
                        "    \n",
                        "    get_assets_async = functools.partial(<function get_assets_async at 0x1...\n",
                        "        Asynchronously retrieve metadata for a list of datasets identifiers.\n",
                        "        \n",
                        "        Parameters (keywords required):\n",
                        "            identifiers (list[int]): The list of identifiers of the datasets to retrieve.\n",
                        "            version (str | None): The version of the endpoint (default is None).\n",
                        "            data_format (Literal[\"pandas\", \"json\"]): The desired format for the response (default is \"pandas\").\n",
                        "                For \"json\" formats, the returned type is a json decoded type, in this case a list of dict's.\n",
                        "        \n",
                        "        Returns:\n",
                        "            pd.DataFrame | list[dict]: The retrieved metadata for the specified datasets.\n",
                        "    \n",
                        "    get_list = functools.partial(<function get_list at 0x1060365c0>, asset...\n",
                        "        Retrieve a list of datasets from the catalogue.\n",
                        "        \n",
                        "        Parameters (keywords required):\n",
                        "            offset (int): The offset for pagination (default is 0).\n",
                        "            limit (int): The maximum number of items to retrieve (default is 10).\n",
                        "            version (str | None): The version of the endpoint (default is None).\n",
                        "            data_format (Literal[\"pandas\", \"json\"]): The desired format for the response (default is \"pandas\").\n",
                        "                For \"json\" formats, the returned type is a json decoded type, i.e. in this case a list of dict's.\n",
                        "        \n",
                        "        Returns:\n",
                        "            pd.DataFrame | list[dict]: The retrieved metadata in the specified format.\n",
                        "    \n",
                        "    get_list_async = functools.partial(<function get_list_async at 0x11855...\n",
                        "        Asynchronously retrieve a list of datasets from the catalogue in batches.\n",
                        "        \n",
                        "        Parameters (keywords required):\n",
                        "            offset (int): The offset for pagination (default is 0).\n",
                        "            limit (int): The maximum number of items to retrieve (default is 10).\n",
                        "            batch_size (int): The number of items in a a batch.\n",
                        "            version (str | None): The version of the endpoint (default is None).\n",
                        "            data_format (Literal[\"pandas\", \"json\"]): The desired format for the response (default is \"pandas\").\n",
                        "                For \"json\" formats, the returned type is a json decoded type, in this case a list of dict's.\n",
                        "        \n",
                        "        Returns:\n",
                        "            pd.DataFrame | list[dict]: The retrieved metadata in the specified format.\n",
                        "\n",
                        "FILE\n",
                        "    /Users/jmatias/Documents/develop/aiod-py-sdk/src/aiod_sdk/resources/datasets.py\n",
                        "\n",
                        "\n"
                    ]
                }
            ],
            "source": [
                "help(aiod.datasets)"
            ]
        },
        {
            "cell_type": "code",
            "execution_count": 4,
            "metadata": {},
            "outputs": [
                {
                    "data": {
                        "text/plain": [
                            "41114"
                        ]
                    },
                    "execution_count": 4,
                    "metadata": {},
                    "output_type": "execute_result"
                }
            ],
            "source": [
                "aiod.datasets.counts()"
            ]
        },
        {
            "cell_type": "code",
            "execution_count": 5,
            "metadata": {},
            "outputs": [
                {
                    "data": {
                        "text/html": [
                            "<div>\n",
                            "<style scoped>\n",
                            "    .dataframe tbody tr th:only-of-type {\n",
                            "        vertical-align: middle;\n",
                            "    }\n",
                            "\n",
                            "    .dataframe tbody tr th {\n",
                            "        vertical-align: top;\n",
                            "    }\n",
                            "\n",
                            "    .dataframe thead th {\n",
                            "        text-align: right;\n",
                            "    }\n",
                            "</style>\n",
                            "<table border=\"1\" class=\"dataframe\">\n",
                            "  <thead>\n",
                            "    <tr style=\"text-align: right;\">\n",
                            "      <th></th>\n",
                            "      <th>platform</th>\n",
                            "      <th>platform_resource_identifier</th>\n",
                            "      <th>name</th>\n",
                            "      <th>date_published</th>\n",
                            "    </tr>\n",
                            "  </thead>\n",
                            "  <tbody>\n",
                            "    <tr>\n",
                            "      <th>0</th>\n",
                            "      <td>openml</td>\n",
                            "      <td>436</td>\n",
                            "      <td>rosowky</td>\n",
                            "      <td>2014-09-28T23:37:11</td>\n",
                            "    </tr>\n",
                            "    <tr>\n",
                            "      <th>1</th>\n",
                            "      <td>openml</td>\n",
                            "      <td>437</td>\n",
                            "      <td>garrat</td>\n",
                            "      <td>2014-09-28T23:37:13</td>\n",
                            "    </tr>\n",
                            "  </tbody>\n",
                            "</table>\n",
                            "</div>"
                        ],
                        "text/plain": [
                            "  platform platform_resource_identifier     name       date_published\n",
                            "0   openml                          436  rosowky  2014-09-28T23:37:11\n",
                            "1   openml                          437   garrat  2014-09-28T23:37:13"
                        ]
                    },
                    "execution_count": 5,
                    "metadata": {},
                    "output_type": "execute_result"
                }
            ],
            "source": [
                "datasets = aiod.datasets.get_list(offset=300, limit=2)\n",
                "datasets[[\"platform\", \"platform_resource_identifier\", \"name\", \"date_published\"]]"
            ]
        },
        {
            "cell_type": "code",
            "execution_count": 6,
            "metadata": {},
            "outputs": [
                {
                    "data": {
                        "text/plain": [
                            "platform                                                                   openml\n",
                            "platform_resource_identifier                                                  437\n",
                            "name                                                                       garrat\n",
                            "date_published                                                2014-09-28T23:37:13\n",
                            "same_as                               https://www.openml.org/api/v1/json/data/437\n",
                            "is_accessible_for_free                                                       True\n",
                            "version                                                                         1\n",
                            "ai_asset_identifier                                                           307\n",
                            "ai_resource_identifier                                                        317\n",
                            "aiod_entry                      {'editor': [], 'status': 'published', 'date_mo...\n",
                            "alternate_name                                                                 []\n",
                            "application_area                                                               []\n",
                            "citation                                                                       []\n",
                            "contact                                                                        []\n",
                            "creator                                                                        []\n",
                            "description                     {'plain': '**Author**:   \n",
                            "**Source**: Unknown ...\n",
                            "distribution                    [{'content_url': 'https://api.openml.org/data/...\n",
                            "funder                                                                         []\n",
                            "has_part                                                                       []\n",
                            "industrial_sector                                                              []\n",
                            "is_part_of                                                                     []\n",
                            "keyword                                           [machine learning, mathematics]\n",
                            "license                                                                    public\n",
                            "media                                                                          []\n",
                            "note                                                                           []\n",
                            "relevant_link                                                                  []\n",
                            "relevant_resource                                                              []\n",
                            "relevant_to                                                                    []\n",
                            "research_area                                                                  []\n",
                            "scientific_domain                                                              []\n",
                            "size                                           {'unit': 'instances', 'value': 10}\n",
                            "identifier                                                                    302\n",
                            "dtype: object"
                        ]
                    },
                    "execution_count": 6,
                    "metadata": {},
                    "output_type": "execute_result"
                }
            ],
            "source": [
                "metadata_dataset302 = aiod.datasets.get_asset(identifier=302)\n",
                "metadata_dataset302"
            ]
        },
        {
            "cell_type": "markdown",
            "metadata": {},
            "source": [
                "## Async methods"
            ]
        },
        {
            "cell_type": "code",
            "execution_count": 7,
            "metadata": {},
            "outputs": [
                {
                    "data": {
                        "text/html": [
                            "<div>\n",
                            "<style scoped>\n",
                            "    .dataframe tbody tr th:only-of-type {\n",
                            "        vertical-align: middle;\n",
                            "    }\n",
                            "\n",
                            "    .dataframe tbody tr th {\n",
                            "        vertical-align: top;\n",
                            "    }\n",
                            "\n",
                            "    .dataframe thead th {\n",
                            "        text-align: right;\n",
                            "    }\n",
                            "</style>\n",
                            "<table border=\"1\" class=\"dataframe\">\n",
                            "  <thead>\n",
                            "    <tr style=\"text-align: right;\">\n",
                            "      <th></th>\n",
                            "      <th>platform</th>\n",
                            "      <th>name</th>\n",
                            "      <th>identifier</th>\n",
                            "      <th>is_accessible_for_free</th>\n",
                            "    </tr>\n",
                            "  </thead>\n",
                            "  <tbody>\n",
                            "    <tr>\n",
                            "      <th>0</th>\n",
                            "      <td>openml</td>\n",
                            "      <td>rosowky</td>\n",
                            "      <td>301</td>\n",
                            "      <td>True</td>\n",
                            "    </tr>\n",
                            "    <tr>\n",
                            "      <th>1</th>\n",
                            "      <td>openml</td>\n",
                            "      <td>garrat</td>\n",
                            "      <td>302</td>\n",
                            "      <td>True</td>\n",
                            "    </tr>\n",
                            "    <tr>\n",
                            "      <th>2</th>\n",
                            "      <td>openml</td>\n",
                            "      <td>doherty</td>\n",
                            "      <td>303</td>\n",
                            "      <td>True</td>\n",
                            "    </tr>\n",
                            "    <tr>\n",
                            "      <th>3</th>\n",
                            "      <td>openml</td>\n",
                            "      <td>chang</td>\n",
                            "      <td>304</td>\n",
                            "      <td>True</td>\n",
                            "    </tr>\n",
                            "    <tr>\n",
                            "      <th>4</th>\n",
                            "      <td>openml</td>\n",
                            "      <td>qsabr2</td>\n",
                            "      <td>305</td>\n",
                            "      <td>True</td>\n",
                            "    </tr>\n",
                            "  </tbody>\n",
                            "</table>\n",
                            "</div>"
                        ],
                        "text/plain": [
                            "  platform     name  identifier  is_accessible_for_free\n",
                            "0   openml  rosowky         301                    True\n",
                            "1   openml   garrat         302                    True\n",
                            "2   openml  doherty         303                    True\n",
                            "3   openml    chang         304                    True\n",
                            "4   openml   qsabr2         305                    True"
                        ]
                    },
                    "execution_count": 7,
                    "metadata": {},
                    "output_type": "execute_result"
                }
            ],
            "source": [
                "data = await aiod.datasets.get_list_async(offset=300, limit=5, batch_size=3)\n",
                "data[[\"platform\", \"name\", \"identifier\", \"is_accessible_for_free\"]]"
            ]
        },
        {
            "cell_type": "markdown",
            "metadata": {},
            "source": [
                "## Authentication "
            ]
        },
        {
            "cell_type": "code",
            "execution_count": 3,
            "metadata": {},
            "outputs": [
                {
                    "data": {
                        "text/plain": [
                            "User(name='user', roles=('uma_authorization', 'default-roles-aiod', 'offline_access', 'edit_aiod_resources'))"
                        ]
                    },
                    "execution_count": 3,
                    "metadata": {},
                    "output_type": "execute_result"
                }
            ],
            "source": [
                "aiod.login(username=\"user\", password=\"password\")\n",
                "aiod.get_current_user()"
            ]
        },
        {
            "cell_type": "code",
            "execution_count": 4,
            "metadata": {},
            "outputs": [],
            "source": [
                "aiod.logout()"
            ]
        },
        {
            "cell_type": "code",
            "execution_count": 5,
            "metadata": {},
            "outputs": [
                {
                    "ename": "NotAuthenticatedError",
                    "evalue": "{'detail': 'Invalid authentication token'}",
                    "output_type": "error",
                    "traceback": [
                        "\u001b[0;31m---------------------------------------------------------------------------\u001b[0m",
                        "\u001b[0;31mNotAuthenticatedError\u001b[0m                     Traceback (most recent call last)",
                        "Cell \u001b[0;32mIn[5], line 1\u001b[0m\n\u001b[0;32m----> 1\u001b[0m \u001b[43maiod\u001b[49m\u001b[38;5;241;43m.\u001b[39;49m\u001b[43mget_current_user\u001b[49m\u001b[43m(\u001b[49m\u001b[43m)\u001b[49m\n",
                        "File \u001b[0;32m~/Documents/develop/aiondemand/src/aiod/authentication/authentication.py:83\u001b[0m, in \u001b[0;36mget_current_user\u001b[0;34m()\u001b[0m\n\u001b[1;32m     81\u001b[0m content \u001b[38;5;241m=\u001b[39m response\u001b[38;5;241m.\u001b[39mjson()\n\u001b[1;32m     82\u001b[0m \u001b[38;5;28;01mif\u001b[39;00m response\u001b[38;5;241m.\u001b[39mstatus_code \u001b[38;5;241m==\u001b[39m http\u001b[38;5;241m.\u001b[39mclient\u001b[38;5;241m.\u001b[39mUNAUTHORIZED:\n\u001b[0;32m---> 83\u001b[0m     \u001b[38;5;28;01mraise\u001b[39;00m NotAuthenticatedError(content)\n\u001b[1;32m     84\u001b[0m \u001b[38;5;28;01mreturn\u001b[39;00m User(\n\u001b[1;32m     85\u001b[0m     name\u001b[38;5;241m=\u001b[39mcontent[\u001b[38;5;124m\"\u001b[39m\u001b[38;5;124mname\u001b[39m\u001b[38;5;124m\"\u001b[39m],\n\u001b[1;32m     86\u001b[0m     roles\u001b[38;5;241m=\u001b[39m\u001b[38;5;28mtuple\u001b[39m(content[\u001b[38;5;124m\"\u001b[39m\u001b[38;5;124mroles\u001b[39m\u001b[38;5;124m\"\u001b[39m]),\n\u001b[1;32m     87\u001b[0m )\n",
                        "\u001b[0;31mNotAuthenticatedError\u001b[0m: {'detail': 'Invalid authentication token'}"
                    ]
                }
            ],
            "source": [
                "aiod.get_current_user()"
            ]
        }
    ],
    "metadata": {
        "kernelspec": {
            "display_name": "Python 3",
            "language": "python",
            "name": "python3"
        },
        "language_info": {
            "codemirror_mode": {
                "name": "ipython",
                "version": 3
            },
            "file_extension": ".py",
            "mimetype": "text/x-python",
            "name": "python",
            "nbconvert_exporter": "python",
            "pygments_lexer": "ipython3",
            "version": "3.11.9"
        }
    },
    "nbformat": 4,
    "nbformat_minor": 4
}