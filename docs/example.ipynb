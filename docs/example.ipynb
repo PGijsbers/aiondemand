{
    "cells": [
        {
            "cell_type": "markdown",
            "metadata": {},
            "source": [
                "# Example usage\n",
                "\n",
                "To use `aiod_py_sdk` in a project:"
            ]
        },
        {
            "cell_type": "code",
            "execution_count": 1,
            "metadata": {},
            "outputs": [
                {
                    "name": "stdout",
                    "output_type": "stream",
                    "text": [
                        "0.1.0\n"
                    ]
                }
            ],
            "source": [
                "import aiod_sdk as aiod\n",
                "\n",
                "print(aiod.__version__)"
            ]
        },
        {
            "cell_type": "code",
            "execution_count": 2,
            "metadata": {},
            "outputs": [
                {
                    "data": {
                        "text/plain": [
                            "[{'name': 'aiod', 'identifier': 1},\n",
                            " {'name': 'example', 'identifier': 2},\n",
                            " {'name': 'openml', 'identifier': 3},\n",
                            " {'name': 'huggingface', 'identifier': 4},\n",
                            " {'name': 'zenodo', 'identifier': 5},\n",
                            " {'name': 'ai4experiments', 'identifier': 6},\n",
                            " {'name': 'stairwai', 'identifier': 7},\n",
                            " {'name': 'bonseyes', 'identifier': 8},\n",
                            " {'name': 'aida_cms', 'identifier': 9},\n",
                            " {'name': 'robotics4eu', 'identifier': 10}]"
                        ]
                    },
                    "execution_count": 2,
                    "metadata": {},
                    "output_type": "execute_result"
                }
            ],
            "source": [
                "platforms = aiod.platforms.list()\n",
                "platforms.json()"
            ]
        },
        {
            "cell_type": "code",
            "execution_count": 3,
            "metadata": {},
            "outputs": [],
            "source": [
                "numb_platforms = aiod.platforms.counts()"
            ]
        },
        {
            "cell_type": "code",
            "execution_count": 4,
            "metadata": {},
            "outputs": [
                {
                    "data": {
                        "text/plain": [
                            "10"
                        ]
                    },
                    "execution_count": 4,
                    "metadata": {},
                    "output_type": "execute_result"
                }
            ],
            "source": [
                "numb_platforms.json()"
            ]
        },
        {
            "cell_type": "code",
            "execution_count": null,
            "metadata": {},
            "outputs": [],
            "source": []
        }
    ],
    "metadata": {
        "kernelspec": {
            "display_name": "Python 3",
            "language": "python",
            "name": "python3"
        },
        "language_info": {
            "codemirror_mode": {
                "name": "ipython",
                "version": 3
            },
            "file_extension": ".py",
            "mimetype": "text/x-python",
            "name": "python",
            "nbconvert_exporter": "python",
            "pygments_lexer": "ipython3",
            "version": "3.11.6"
        }
    },
    "nbformat": 4,
    "nbformat_minor": 4
}
